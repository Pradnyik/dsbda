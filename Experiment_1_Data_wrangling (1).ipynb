{
 "cells": [
  {
   "cell_type": "code",
   "execution_count": 1,
   "metadata": {},
   "outputs": [
    {
     "name": "stdout",
     "output_type": "stream",
     "text": [
      "Requirement already satisfied: pandas in c:\\users\\dell\\appdata\\local\\programs\\python\\python312\\lib\\site-packages (2.2.2)\n",
      "Requirement already satisfied: numpy>=1.26.0 in c:\\users\\dell\\appdata\\local\\programs\\python\\python312\\lib\\site-packages (from pandas) (1.26.4)\n",
      "Requirement already satisfied: python-dateutil>=2.8.2 in c:\\users\\dell\\appdata\\local\\programs\\python\\python312\\lib\\site-packages (from pandas) (2.8.2)\n",
      "Requirement already satisfied: pytz>=2020.1 in c:\\users\\dell\\appdata\\local\\programs\\python\\python312\\lib\\site-packages (from pandas) (2024.1)\n",
      "Requirement already satisfied: tzdata>=2022.7 in c:\\users\\dell\\appdata\\local\\programs\\python\\python312\\lib\\site-packages (from pandas) (2024.1)\n",
      "Requirement already satisfied: six>=1.5 in c:\\users\\dell\\appdata\\local\\programs\\python\\python312\\lib\\site-packages (from python-dateutil>=2.8.2->pandas) (1.16.0)\n",
      "Note: you may need to restart the kernel to use updated packages.\n"
     ]
    }
   ],
   "source": [
    "pip install pandas"
   ]
  },
  {
   "cell_type": "code",
   "execution_count": 2,
   "metadata": {},
   "outputs": [
    {
     "name": "stdout",
     "output_type": "stream",
     "text": [
      "Collecting sklearn\n",
      "  Using cached sklearn-0.0.post12.tar.gz (2.6 kB)\n",
      "  Installing build dependencies: started\n",
      "  Installing build dependencies: finished with status 'done'\n",
      "  Getting requirements to build wheel: started\n",
      "  Getting requirements to build wheel: finished with status 'error'\n",
      "Note: you may need to restart the kernel to use updated packages.\n"
     ]
    },
    {
     "name": "stderr",
     "output_type": "stream",
     "text": [
      "  error: subprocess-exited-with-error\n",
      "  \n",
      "  Getting requirements to build wheel did not run successfully.\n",
      "  exit code: 1\n",
      "  \n",
      "  [15 lines of output]\n",
      "  The 'sklearn' PyPI package is deprecated, use 'scikit-learn'\n",
      "  rather than 'sklearn' for pip commands.\n",
      "  \n",
      "  Here is how to fix this error in the main use cases:\n",
      "  - use 'pip install scikit-learn' rather than 'pip install sklearn'\n",
      "  - replace 'sklearn' by 'scikit-learn' in your pip requirements files\n",
      "    (requirements.txt, setup.py, setup.cfg, Pipfile, etc ...)\n",
      "  - if the 'sklearn' package is used by one of your dependencies,\n",
      "    it would be great if you take some time to track which package uses\n",
      "    'sklearn' instead of 'scikit-learn' and report it to their issue tracker\n",
      "  - as a last resort, set the environment variable\n",
      "    SKLEARN_ALLOW_DEPRECATED_SKLEARN_PACKAGE_INSTALL=True to avoid this error\n",
      "  \n",
      "  More information is available at\n",
      "  https://github.com/scikit-learn/sklearn-pypi-package\n",
      "  [end of output]\n",
      "  \n",
      "  note: This error originates from a subprocess, and is likely not a problem with pip.\n",
      "error: subprocess-exited-with-error\n",
      "\n",
      "Getting requirements to build wheel did not run successfully.\n",
      "exit code: 1\n",
      "\n",
      "See above for output.\n",
      "\n",
      "note: This error originates from a subprocess, and is likely not a problem with pip.\n"
     ]
    }
   ],
   "source": [
    "pip install sklearn"
   ]
  },
  {
   "cell_type": "code",
   "execution_count": 3,
   "metadata": {},
   "outputs": [],
   "source": [
    "import pandas as pd"
   ]
  },
  {
   "cell_type": "code",
   "execution_count": 4,
   "metadata": {},
   "outputs": [],
   "source": [
    "df = pd.read_csv(r\"C:\\Users\\DELL\\OneDrive\\Desktop\\DSBDAL\\Ex1student performance\\StudentsPerformance.csv\")"
   ]
  },
  {
   "cell_type": "code",
   "execution_count": 5,
   "metadata": {},
   "outputs": [
    {
     "name": "stdout",
     "output_type": "stream",
     "text": [
      "     gender race/ethnicity parental level of education         lunch  \\\n",
      "0    female        group B           bachelor's degree      standard   \n",
      "1    female        group C                some college      standard   \n",
      "2    female        group B             master's degree      standard   \n",
      "3      male        group A          associate's degree  free/reduced   \n",
      "4      male        group C                some college      standard   \n",
      "..      ...            ...                         ...           ...   \n",
      "995  female        group E             master's degree      standard   \n",
      "996    male        group C                 high school  free/reduced   \n",
      "997  female        group C                 high school  free/reduced   \n",
      "998  female        group D                some college      standard   \n",
      "999  female        group D                some college  free/reduced   \n",
      "\n",
      "    test preparation course  math score  reading score  writing score  \n",
      "0                      none        72.0           72.0           74.0  \n",
      "1                 completed        69.0           90.0           88.0  \n",
      "2                      none        90.0           95.0           93.0  \n",
      "3                      none        47.0           57.0           44.0  \n",
      "4                      none        76.0           78.0           75.0  \n",
      "..                      ...         ...            ...            ...  \n",
      "995               completed        88.0           99.0           95.0  \n",
      "996                    none        62.0           55.0           55.0  \n",
      "997               completed        59.0           71.0           65.0  \n",
      "998               completed        68.0           78.0           77.0  \n",
      "999                    none        77.0           86.0           86.0  \n",
      "\n",
      "[1000 rows x 8 columns]\n"
     ]
    }
   ],
   "source": [
    "print(df)"
   ]
  },
  {
   "cell_type": "code",
   "execution_count": 6,
   "metadata": {},
   "outputs": [
    {
     "data": {
      "text/html": [
       "<div>\n",
       "<style scoped>\n",
       "    .dataframe tbody tr th:only-of-type {\n",
       "        vertical-align: middle;\n",
       "    }\n",
       "\n",
       "    .dataframe tbody tr th {\n",
       "        vertical-align: top;\n",
       "    }\n",
       "\n",
       "    .dataframe thead th {\n",
       "        text-align: right;\n",
       "    }\n",
       "</style>\n",
       "<table border=\"1\" class=\"dataframe\">\n",
       "  <thead>\n",
       "    <tr style=\"text-align: right;\">\n",
       "      <th></th>\n",
       "      <th>gender</th>\n",
       "      <th>race/ethnicity</th>\n",
       "      <th>parental level of education</th>\n",
       "      <th>lunch</th>\n",
       "      <th>test preparation course</th>\n",
       "      <th>math score</th>\n",
       "      <th>reading score</th>\n",
       "      <th>writing score</th>\n",
       "    </tr>\n",
       "  </thead>\n",
       "  <tbody>\n",
       "    <tr>\n",
       "      <th>0</th>\n",
       "      <td>female</td>\n",
       "      <td>group B</td>\n",
       "      <td>bachelor's degree</td>\n",
       "      <td>standard</td>\n",
       "      <td>none</td>\n",
       "      <td>72.0</td>\n",
       "      <td>72.0</td>\n",
       "      <td>74.0</td>\n",
       "    </tr>\n",
       "    <tr>\n",
       "      <th>1</th>\n",
       "      <td>female</td>\n",
       "      <td>group C</td>\n",
       "      <td>some college</td>\n",
       "      <td>standard</td>\n",
       "      <td>completed</td>\n",
       "      <td>69.0</td>\n",
       "      <td>90.0</td>\n",
       "      <td>88.0</td>\n",
       "    </tr>\n",
       "    <tr>\n",
       "      <th>2</th>\n",
       "      <td>female</td>\n",
       "      <td>group B</td>\n",
       "      <td>master's degree</td>\n",
       "      <td>standard</td>\n",
       "      <td>none</td>\n",
       "      <td>90.0</td>\n",
       "      <td>95.0</td>\n",
       "      <td>93.0</td>\n",
       "    </tr>\n",
       "    <tr>\n",
       "      <th>3</th>\n",
       "      <td>male</td>\n",
       "      <td>group A</td>\n",
       "      <td>associate's degree</td>\n",
       "      <td>free/reduced</td>\n",
       "      <td>none</td>\n",
       "      <td>47.0</td>\n",
       "      <td>57.0</td>\n",
       "      <td>44.0</td>\n",
       "    </tr>\n",
       "    <tr>\n",
       "      <th>4</th>\n",
       "      <td>male</td>\n",
       "      <td>group C</td>\n",
       "      <td>some college</td>\n",
       "      <td>standard</td>\n",
       "      <td>none</td>\n",
       "      <td>76.0</td>\n",
       "      <td>78.0</td>\n",
       "      <td>75.0</td>\n",
       "    </tr>\n",
       "    <tr>\n",
       "      <th>5</th>\n",
       "      <td>female</td>\n",
       "      <td>group B</td>\n",
       "      <td>associate's degree</td>\n",
       "      <td>standard</td>\n",
       "      <td>none</td>\n",
       "      <td>71.0</td>\n",
       "      <td>83.0</td>\n",
       "      <td>78.0</td>\n",
       "    </tr>\n",
       "    <tr>\n",
       "      <th>6</th>\n",
       "      <td>female</td>\n",
       "      <td>group B</td>\n",
       "      <td>some college</td>\n",
       "      <td>standard</td>\n",
       "      <td>completed</td>\n",
       "      <td>88.0</td>\n",
       "      <td>95.0</td>\n",
       "      <td>92.0</td>\n",
       "    </tr>\n",
       "    <tr>\n",
       "      <th>7</th>\n",
       "      <td>male</td>\n",
       "      <td>group B</td>\n",
       "      <td>some college</td>\n",
       "      <td>free/reduced</td>\n",
       "      <td>none</td>\n",
       "      <td>40.0</td>\n",
       "      <td>43.0</td>\n",
       "      <td>39.0</td>\n",
       "    </tr>\n",
       "    <tr>\n",
       "      <th>8</th>\n",
       "      <td>male</td>\n",
       "      <td>group D</td>\n",
       "      <td>high school</td>\n",
       "      <td>free/reduced</td>\n",
       "      <td>completed</td>\n",
       "      <td>64.0</td>\n",
       "      <td>64.0</td>\n",
       "      <td>67.0</td>\n",
       "    </tr>\n",
       "    <tr>\n",
       "      <th>9</th>\n",
       "      <td>female</td>\n",
       "      <td>group B</td>\n",
       "      <td>high school</td>\n",
       "      <td>free/reduced</td>\n",
       "      <td>none</td>\n",
       "      <td>38.0</td>\n",
       "      <td>60.0</td>\n",
       "      <td>50.0</td>\n",
       "    </tr>\n",
       "  </tbody>\n",
       "</table>\n",
       "</div>"
      ],
      "text/plain": [
       "   gender race/ethnicity parental level of education         lunch  \\\n",
       "0  female        group B           bachelor's degree      standard   \n",
       "1  female        group C                some college      standard   \n",
       "2  female        group B             master's degree      standard   \n",
       "3    male        group A          associate's degree  free/reduced   \n",
       "4    male        group C                some college      standard   \n",
       "5  female        group B          associate's degree      standard   \n",
       "6  female        group B                some college      standard   \n",
       "7    male        group B                some college  free/reduced   \n",
       "8    male        group D                 high school  free/reduced   \n",
       "9  female        group B                 high school  free/reduced   \n",
       "\n",
       "  test preparation course  math score  reading score  writing score  \n",
       "0                    none        72.0           72.0           74.0  \n",
       "1               completed        69.0           90.0           88.0  \n",
       "2                    none        90.0           95.0           93.0  \n",
       "3                    none        47.0           57.0           44.0  \n",
       "4                    none        76.0           78.0           75.0  \n",
       "5                    none        71.0           83.0           78.0  \n",
       "6               completed        88.0           95.0           92.0  \n",
       "7                    none        40.0           43.0           39.0  \n",
       "8               completed        64.0           64.0           67.0  \n",
       "9                    none        38.0           60.0           50.0  "
      ]
     },
     "execution_count": 6,
     "metadata": {},
     "output_type": "execute_result"
    }
   ],
   "source": [
    "df.head(10)"
   ]
  },
  {
   "cell_type": "code",
   "execution_count": 7,
   "metadata": {},
   "outputs": [
    {
     "data": {
      "text/plain": [
       "gender                         0\n",
       "race/ethnicity                 0\n",
       "parental level of education    0\n",
       "lunch                          0\n",
       "test preparation course        0\n",
       "math score                     2\n",
       "reading score                  4\n",
       "writing score                  2\n",
       "dtype: int64"
      ]
     },
     "execution_count": 7,
     "metadata": {},
     "output_type": "execute_result"
    }
   ],
   "source": [
    "df.isnull().sum()"
   ]
  },
  {
   "cell_type": "code",
   "execution_count": 8,
   "metadata": {},
   "outputs": [
    {
     "name": "stdout",
     "output_type": "stream",
     "text": [
      "       math score  reading score  writing score\n",
      "count  998.000000     996.000000     998.000000\n",
      "mean    66.093186      69.186747      68.046092\n",
      "std     15.177728      14.623079      15.208213\n",
      "min      0.000000      17.000000      10.000000\n",
      "25%     57.000000      59.000000      57.250000\n",
      "50%     66.000000      70.000000      69.000000\n",
      "75%     77.000000      79.250000      79.000000\n",
      "max    100.000000     100.000000     100.000000\n"
     ]
    }
   ],
   "source": [
    "print(df.describe())"
   ]
  },
  {
   "cell_type": "code",
   "execution_count": 9,
   "metadata": {},
   "outputs": [
    {
     "data": {
      "text/plain": [
       "gender                          object\n",
       "race/ethnicity                  object\n",
       "parental level of education     object\n",
       "lunch                           object\n",
       "test preparation course         object\n",
       "math score                     float64\n",
       "reading score                  float64\n",
       "writing score                  float64\n",
       "dtype: object"
      ]
     },
     "execution_count": 9,
     "metadata": {},
     "output_type": "execute_result"
    }
   ],
   "source": [
    "df.dtypes"
   ]
  },
  {
   "cell_type": "code",
   "execution_count": 10,
   "metadata": {},
   "outputs": [
    {
     "data": {
      "text/html": [
       "<div>\n",
       "<style scoped>\n",
       "    .dataframe tbody tr th:only-of-type {\n",
       "        vertical-align: middle;\n",
       "    }\n",
       "\n",
       "    .dataframe tbody tr th {\n",
       "        vertical-align: top;\n",
       "    }\n",
       "\n",
       "    .dataframe thead th {\n",
       "        text-align: right;\n",
       "    }\n",
       "</style>\n",
       "<table border=\"1\" class=\"dataframe\">\n",
       "  <thead>\n",
       "    <tr style=\"text-align: right;\">\n",
       "      <th></th>\n",
       "      <th>gender</th>\n",
       "      <th>race/ethnicity</th>\n",
       "      <th>parental level of education</th>\n",
       "      <th>lunch</th>\n",
       "      <th>test preparation course</th>\n",
       "    </tr>\n",
       "  </thead>\n",
       "  <tbody>\n",
       "    <tr>\n",
       "      <th>0</th>\n",
       "      <td>female</td>\n",
       "      <td>group B</td>\n",
       "      <td>bachelor's degree</td>\n",
       "      <td>standard</td>\n",
       "      <td>none</td>\n",
       "    </tr>\n",
       "    <tr>\n",
       "      <th>1</th>\n",
       "      <td>female</td>\n",
       "      <td>group C</td>\n",
       "      <td>some college</td>\n",
       "      <td>standard</td>\n",
       "      <td>completed</td>\n",
       "    </tr>\n",
       "    <tr>\n",
       "      <th>2</th>\n",
       "      <td>female</td>\n",
       "      <td>group B</td>\n",
       "      <td>master's degree</td>\n",
       "      <td>standard</td>\n",
       "      <td>none</td>\n",
       "    </tr>\n",
       "    <tr>\n",
       "      <th>3</th>\n",
       "      <td>male</td>\n",
       "      <td>group A</td>\n",
       "      <td>associate's degree</td>\n",
       "      <td>free/reduced</td>\n",
       "      <td>none</td>\n",
       "    </tr>\n",
       "    <tr>\n",
       "      <th>4</th>\n",
       "      <td>male</td>\n",
       "      <td>group C</td>\n",
       "      <td>some college</td>\n",
       "      <td>standard</td>\n",
       "      <td>none</td>\n",
       "    </tr>\n",
       "    <tr>\n",
       "      <th>...</th>\n",
       "      <td>...</td>\n",
       "      <td>...</td>\n",
       "      <td>...</td>\n",
       "      <td>...</td>\n",
       "      <td>...</td>\n",
       "    </tr>\n",
       "    <tr>\n",
       "      <th>995</th>\n",
       "      <td>female</td>\n",
       "      <td>group E</td>\n",
       "      <td>master's degree</td>\n",
       "      <td>standard</td>\n",
       "      <td>completed</td>\n",
       "    </tr>\n",
       "    <tr>\n",
       "      <th>996</th>\n",
       "      <td>male</td>\n",
       "      <td>group C</td>\n",
       "      <td>high school</td>\n",
       "      <td>free/reduced</td>\n",
       "      <td>none</td>\n",
       "    </tr>\n",
       "    <tr>\n",
       "      <th>997</th>\n",
       "      <td>female</td>\n",
       "      <td>group C</td>\n",
       "      <td>high school</td>\n",
       "      <td>free/reduced</td>\n",
       "      <td>completed</td>\n",
       "    </tr>\n",
       "    <tr>\n",
       "      <th>998</th>\n",
       "      <td>female</td>\n",
       "      <td>group D</td>\n",
       "      <td>some college</td>\n",
       "      <td>standard</td>\n",
       "      <td>completed</td>\n",
       "    </tr>\n",
       "    <tr>\n",
       "      <th>999</th>\n",
       "      <td>female</td>\n",
       "      <td>group D</td>\n",
       "      <td>some college</td>\n",
       "      <td>free/reduced</td>\n",
       "      <td>none</td>\n",
       "    </tr>\n",
       "  </tbody>\n",
       "</table>\n",
       "<p>1000 rows × 5 columns</p>\n",
       "</div>"
      ],
      "text/plain": [
       "     gender race/ethnicity parental level of education         lunch  \\\n",
       "0    female        group B           bachelor's degree      standard   \n",
       "1    female        group C                some college      standard   \n",
       "2    female        group B             master's degree      standard   \n",
       "3      male        group A          associate's degree  free/reduced   \n",
       "4      male        group C                some college      standard   \n",
       "..      ...            ...                         ...           ...   \n",
       "995  female        group E             master's degree      standard   \n",
       "996    male        group C                 high school  free/reduced   \n",
       "997  female        group C                 high school  free/reduced   \n",
       "998  female        group D                some college      standard   \n",
       "999  female        group D                some college  free/reduced   \n",
       "\n",
       "    test preparation course  \n",
       "0                      none  \n",
       "1                 completed  \n",
       "2                      none  \n",
       "3                      none  \n",
       "4                      none  \n",
       "..                      ...  \n",
       "995               completed  \n",
       "996                    none  \n",
       "997               completed  \n",
       "998               completed  \n",
       "999                    none  \n",
       "\n",
       "[1000 rows x 5 columns]"
      ]
     },
     "execution_count": 10,
     "metadata": {},
     "output_type": "execute_result"
    }
   ],
   "source": [
    "df.dropna(axis=1)"
   ]
  },
  {
   "cell_type": "code",
   "execution_count": 11,
   "metadata": {},
   "outputs": [
    {
     "name": "stdout",
     "output_type": "stream",
     "text": [
      "     gender\n",
      "0    female\n",
      "1    female\n",
      "2    female\n",
      "3      male\n",
      "4      male\n",
      "..      ...\n",
      "995  female\n",
      "996    male\n",
      "997  female\n",
      "998  female\n",
      "999  female\n",
      "\n",
      "[1000 rows x 1 columns]\n"
     ]
    }
   ],
   "source": [
    "y = df.iloc[:, 0:1]\n",
    "print(y)"
   ]
  },
  {
   "cell_type": "code",
   "execution_count": 12,
   "metadata": {},
   "outputs": [
    {
     "name": "stdout",
     "output_type": "stream",
     "text": [
      "[0 0 0 1 1 0 0 1 1 0 1 1 0 1 0 0 1 0 1 0 1 0 1 0 1 1 1 0 1 0 0 0 0 1 1 1 0\n",
      " 0 0 1 1 0 0 1 0 1 0 0 0 1 1 1 1 1 0 0 0 1 1 0 1 1 1 0 0 1 1 0 1 0 0 1 0 1\n",
      " 1 1 1 1 0 0 0 1 1 1 1 0 0 0 0 0 0 1 1 1 0 1 1 0 0 0 1 1 0 1 1 0 0 1 0 0 0\n",
      " 1 1 0 0 1 0 0 0 0 0 1 0 1 1 0 1 1 1 0 1 1 1 0 1 1 1 1 0 1 0 0 0 1 1 0 1 1\n",
      " 0 1 1 1 0 1 1 0 0 1 0 1 1 0 1 1 0 0 1 0 0 0 1 1 0 0 0 0 0 0 0 0 1 0 0 0 1\n",
      " 1 1 1 1 0 0 1 0 1 0 1 1 1 0 0 0 0 1 0 1 1 1 1 0 0 1 1 0 1 1 1 0 0 1 1 0 1\n",
      " 0 1 0 0 0 1 1 0 1 1 0 1 1 1 1 0 1 1 1 0 0 1 1 1 1 0 0 1 1 0 0 1 1 0 0 1 0\n",
      " 0 0 1 0 0 1 1 0 0 0 0 1 1 0 0 1 1 0 0 0 1 1 1 0 0 0 1 1 0 1 1 1 1 1 0 1 1\n",
      " 1 1 1 1 1 1 0 1 0 1 1 1 0 0 0 1 1 0 0 1 0 1 1 0 0 0 0 0 0 0 1 1 1 0 1 1 1\n",
      " 1 0 0 1 1 0 0 1 0 0 1 1 0 1 0 1 1 0 1 0 0 0 0 1 0 1 0 0 1 0 0 1 1 1 1 0 0\n",
      " 1 0 1 0 0 1 0 0 0 1 0 1 1 0 0 0 0 0 0 1 1 0 1 1 0 1 0 0 1 1 0 1 0 0 0 0 1\n",
      " 0 0 1 0 1 1 1 0 1 1 1 1 1 0 0 0 0 1 0 1 1 1 1 1 0 1 0 1 1 1 1 1 1 0 0 0 0\n",
      " 1 0 1 1 1 1 0 0 0 1 0 1 0 1 0 1 1 1 0 0 1 0 0 1 0 1 0 0 0 0 0 0 1 1 0 1 1\n",
      " 0 1 1 0 1 1 0 1 1 0 0 0 0 0 1 0 0 0 1 0 0 1 0 0 0 1 1 1 0 1 1 1 0 0 0 0 0\n",
      " 0 0 1 0 1 1 1 1 1 0 0 0 0 0 1 0 1 0 1 0 1 1 1 1 0 0 0 1 0 1 0 1 1 1 0 1 1\n",
      " 0 0 1 0 1 0 0 1 0 1 1 0 0 1 1 1 1 0 0 0 1 1 0 0 0 0 0 0 0 0 0 0 0 0 0 1 1\n",
      " 1 0 0 0 1 1 0 0 0 0 0 1 1 1 0 0 0 0 1 0 1 0 0 0 0 1 1 1 0 1 1 1 0 1 1 1 1\n",
      " 0 1 1 0 0 1 1 0 0 1 0 1 0 0 0 1 0 0 0 0 0 1 0 0 0 0 0 1 1 0 1 1 1 0 0 1 0\n",
      " 0 0 1 1 0 1 0 0 0 0 0 0 1 1 0 1 1 0 1 0 1 1 1 1 0 0 0 0 0 0 0 0 0 1 0 0 1\n",
      " 0 0 1 1 1 1 0 1 0 0 1 0 0 1 0 0 1 0 1 0 1 1 1 0 1 0 1 0 1 0 1 0 1 1 0 1 1\n",
      " 1 0 0 0 1 1 1 1 0 1 1 1 1 0 1 0 1 1 0 1 0 0 1 0 1 0 0 1 0 1 1 1 0 0 1 0 0\n",
      " 0 0 1 0 0 0 0 1 0 0 0 1 0 0 0 1 1 0 0 1 0 1 0 1 1 0 0 0 1 0 0 1 1 1 1 0 1\n",
      " 0 1 0 1 0 0 0 0 1 0 0 1 0 0 0 1 0 0 1 0 1 0 1 0 1 0 0 1 0 1 0 1 1 1 0 1 1\n",
      " 0 0 1 1 0 1 0 1 1 0 0 1 0 1 1 1 1 1 1 1 0 1 1 0 1 1 1 0 0 1 0 0 1 0 0 0 1\n",
      " 0 1 0 0 0 1 0 0 1 0 1 0 1 0 0 0 0 1 1 0 0 1 1 0 0 0 0 0 1 0 0 1 1 0 1 0 1\n",
      " 1 1 0 1 0 1 1 1 1 1 1 1 0 1 1 1 0 1 1 0 0 1 0 1 0 1 0 0 1 0 1 1 0 0 1 0 0\n",
      " 0 0 1 0 1 1 0 0 0 1 0 0 0 0 1 1 1 0 0 1 1 0 0 1 0 1 0 0 1 0 0 0 1 0 1 0 0\n",
      " 0]\n"
     ]
    },
    {
     "name": "stderr",
     "output_type": "stream",
     "text": [
      "C:\\Users\\DELL\\AppData\\Local\\Programs\\Python\\Python312\\Lib\\site-packages\\sklearn\\preprocessing\\_label.py:114: DataConversionWarning: A column-vector y was passed when a 1d array was expected. Please change the shape of y to (n_samples, ), for example using ravel().\n",
      "  y = column_or_1d(y, warn=True)\n"
     ]
    }
   ],
   "source": [
    "from sklearn.preprocessing import LabelEncoder\n",
    "le = LabelEncoder()\n",
    "y = le.fit_transform(y)\n",
    "print(y)"
   ]
  },
  {
   "cell_type": "code",
   "execution_count": 13,
   "metadata": {},
   "outputs": [
    {
     "name": "stdout",
     "output_type": "stream",
     "text": [
      "race/ethnicity\n",
      "group C    319\n",
      "group D    262\n",
      "group B    190\n",
      "group E    140\n",
      "group A     89\n",
      "Name: count, dtype: int64\n"
     ]
    }
   ],
   "source": [
    "print(df['race/ethnicity'].value_counts())"
   ]
  },
  {
   "cell_type": "code",
   "execution_count": 14,
   "metadata": {},
   "outputs": [
    {
     "name": "stdout",
     "output_type": "stream",
     "text": [
      "     gender race/ethnicity parental level of education         lunch  \\\n",
      "0    female        group B           bachelor's degree      standard   \n",
      "1    female        group C                some college      standard   \n",
      "2    female        group B             master's degree      standard   \n",
      "3      male        group A          associate's degree  free/reduced   \n",
      "4      male        group C                some college      standard   \n",
      "..      ...            ...                         ...           ...   \n",
      "995  female        group E             master's degree      standard   \n",
      "996    male        group C                 high school  free/reduced   \n",
      "997  female        group C                 high school  free/reduced   \n",
      "998  female        group D                some college      standard   \n",
      "999  female        group D                some college  free/reduced   \n",
      "\n",
      "    test preparation course  math score  reading score  writing score  \\\n",
      "0                      none        72.0           72.0           74.0   \n",
      "1                 completed        69.0           90.0           88.0   \n",
      "2                      none        90.0           95.0           93.0   \n",
      "3                      none        47.0           57.0           44.0   \n",
      "4                      none        76.0           78.0           75.0   \n",
      "..                      ...         ...            ...            ...   \n",
      "995               completed        88.0           99.0           95.0   \n",
      "996                    none        62.0           55.0           55.0   \n",
      "997               completed        59.0           71.0           65.0   \n",
      "998               completed        68.0           78.0           77.0   \n",
      "999                    none        77.0           86.0           86.0   \n",
      "\n",
      "     free/reduced  standard  \n",
      "0           False      True  \n",
      "1           False      True  \n",
      "2           False      True  \n",
      "3            True     False  \n",
      "4           False      True  \n",
      "..            ...       ...  \n",
      "995         False      True  \n",
      "996          True     False  \n",
      "997          True     False  \n",
      "998         False      True  \n",
      "999          True     False  \n",
      "\n",
      "[1000 rows x 10 columns]\n"
     ]
    }
   ],
   "source": [
    "df_Lunch = pd.get_dummies(df['lunch'])\n",
    "df_new = pd.concat([df, df_Lunch], axis=1)\n",
    "print(df_new)"
   ]
  },
  {
   "cell_type": "code",
   "execution_count": 15,
   "metadata": {},
   "outputs": [
    {
     "data": {
      "text/plain": [
       "'\\nThis code seems to be performing several data preprocessing tasks on a dataset containing information about students\\' gender, race/ethnicity, parental level of education, lunch type, test preparation course, math score, reading score, and writing score.\\n\\nHere\\'s an explanation of each part of the code:\\n\\n1. **Installation and Importing Libraries:**\\n   - The code starts with checking for the availability of the `pandas` library and its dependencies. If not installed, it suggests installing them. Then, it imports the necessary libraries (`pandas`).\\n\\n2. **Loading the Dataset:**\\n   - The code reads a CSV file named \"StudentsPerformance.csv\" using the `pd.read_csv()` function from the `pandas` library and stores it in a DataFrame called `df`.\\n\\n3. **Data Exploration:**\\n   - The code prints the first 15 rows of the DataFrame using `df.head(15)`.\\n   - It checks for missing values in the DataFrame using `df.isnull().sum()` and prints the sum of missing values for each column.\\n   - It prints the statistical summary of the numerical columns in the DataFrame using `df.describe()`.\\n\\n4. **Data Types and Handling Missing Values:**\\n   - The code prints the data types of each column in the DataFrame using `df.dtypes`.\\n   - It drops columns with missing values using `df.dropna(axis=1)`.\\n\\n5. **Encoding Categorical Variables:**\\n   - The code encodes categorical variables using `LabelEncoder` from `sklearn.preprocessing` to convert categorical labels into numeric labels. It applies this transformation specifically to the \"race/ethnicity\" column.\\n\\n6. **Printing Value Counts:**\\n   - The code prints the count of unique values in the \"race/ethnicity\" column using `df[\\'race/ethnicity\\'].value_counts()`.\\n\\n7. **One-Hot Encoding:**\\n   - The code performs one-hot encoding on the \"lunch\" column using `pd.get_dummies()`, creating dummy variables for the categories \"free/reduced\" and \"standard\" and concatenating them to the DataFrame.\\n\\nThis code essentially loads a dataset, explores its structure and content, handles missing values, encodes categorical variables, and prepares the data for further analysis or modeling.\\n\\nData wrangling, also known as data munging or data preprocessing, refers to the process of cleaning, transforming, and enriching raw data into a format that is suitable for analysis or modeling. This process is crucial because real-world data is often messy, incomplete, or inconsistent, and it needs to be prepared before it can be effectively used for analysis or machine learning tasks. Here\\'s an overview of the steps involved in data wrangling:\\n\\nData Collection: Obtain raw data from various sources such as databases, APIs, CSV files, or web scraping.\\nData Cleaning:\\nHandle missing values: Identify missing data and decide how to handle them (e.g., imputation, deletion).\\nRemove duplicates: Identify and remove duplicate rows or records from the dataset.\\nCorrect inaccuracies: Detect and correct errors or inaccuracies in the data.\\nStandardize data: Convert data into a consistent format (e.g., date formatting, unit conversion).\\nData Transformation:\\nFeature engineering: Create new features or derive additional information from existing features to enhance the predictive power of the dataset.\\nEncoding categorical variables: Convert categorical variables into a numerical format suitable for machine learning algorithms (e.g., one-hot encoding, label encoding).\\nScaling and normalization: Scale numerical features to ensure they have similar ranges or normalize them to a standard distribution.\\nData aggregation: Aggregate data at different levels (e.g., group by, pivot tables) to generate summary statistics or create new datasets.\\nData Integration: Combine data from multiple sources or datasets to create a unified dataset for analysis.\\nData Reduction: Reduce the dimensionality of the dataset by selecting relevant features or applying dimensionality reduction techniques (e.g., PCA) to improve computational efficiency or remove noise.\\nData Formatting: Format the data in a way that is suitable for specific analysis or modeling tasks, such as reshaping data into long or wide formats or converting data types.\\nData Enrichment: Enhance the dataset by incorporating additional external data sources or appending supplementary information to enrich the analysis.\\nData Validation: Validate the integrity and quality of the processed data to ensure that it meets the desired standards and is ready for analysis or modeling.\\n'"
      ]
     },
     "execution_count": 15,
     "metadata": {},
     "output_type": "execute_result"
    }
   ],
   "source": [
    "\"\"\"\n",
    "This code seems to be performing several data preprocessing tasks on a dataset containing information about students' gender, race/ethnicity, parental level of education, lunch type, test preparation course, math score, reading score, and writing score.\n",
    "\n",
    "Here's an explanation of each part of the code:\n",
    "\n",
    "1. **Installation and Importing Libraries:**\n",
    "   - The code starts with checking for the availability of the `pandas` library and its dependencies. If not installed, it suggests installing them. Then, it imports the necessary libraries (`pandas`).\n",
    "\n",
    "2. **Loading the Dataset:**\n",
    "   - The code reads a CSV file named \"StudentsPerformance.csv\" using the `pd.read_csv()` function from the `pandas` library and stores it in a DataFrame called `df`.\n",
    "\n",
    "3. **Data Exploration:**\n",
    "   - The code prints the first 15 rows of the DataFrame using `df.head(15)`.\n",
    "   - It checks for missing values in the DataFrame using `df.isnull().sum()` and prints the sum of missing values for each column.\n",
    "   - It prints the statistical summary of the numerical columns in the DataFrame using `df.describe()`.\n",
    "\n",
    "4. **Data Types and Handling Missing Values:**\n",
    "   - The code prints the data types of each column in the DataFrame using `df.dtypes`.\n",
    "   - It drops columns with missing values using `df.dropna(axis=1)`.\n",
    "\n",
    "5. **Encoding Categorical Variables:**\n",
    "   - The code encodes categorical variables using `LabelEncoder` from `sklearn.preprocessing` to convert categorical labels into numeric labels. It applies this transformation specifically to the \"race/ethnicity\" column.\n",
    "\n",
    "6. **Printing Value Counts:**\n",
    "   - The code prints the count of unique values in the \"race/ethnicity\" column using `df['race/ethnicity'].value_counts()`.\n",
    "\n",
    "7. **One-Hot Encoding:**\n",
    "   - The code performs one-hot encoding on the \"lunch\" column using `pd.get_dummies()`, creating dummy variables for the categories \"free/reduced\" and \"standard\" and concatenating them to the DataFrame.\n",
    "\n",
    "This code essentially loads a dataset, explores its structure and content, handles missing values, encodes categorical variables, and prepares the data for further analysis or modeling.\n",
    "\n",
    "Data wrangling, also known as data munging or data preprocessing, refers to the process of cleaning, transforming, and enriching raw data into a format that is suitable for analysis or modeling. This process is crucial because real-world data is often messy, incomplete, or inconsistent, and it needs to be prepared before it can be effectively used for analysis or machine learning tasks. Here's an overview of the steps involved in data wrangling:\n",
    "\n",
    "Data Collection: Obtain raw data from various sources such as databases, APIs, CSV files, or web scraping.\n",
    "Data Cleaning:\n",
    "Handle missing values: Identify missing data and decide how to handle them (e.g., imputation, deletion).\n",
    "Remove duplicates: Identify and remove duplicate rows or records from the dataset.\n",
    "Correct inaccuracies: Detect and correct errors or inaccuracies in the data.\n",
    "Standardize data: Convert data into a consistent format (e.g., date formatting, unit conversion).\n",
    "Data Transformation:\n",
    "Feature engineering: Create new features or derive additional information from existing features to enhance the predictive power of the dataset.\n",
    "Encoding categorical variables: Convert categorical variables into a numerical format suitable for machine learning algorithms (e.g., one-hot encoding, label encoding).\n",
    "Scaling and normalization: Scale numerical features to ensure they have similar ranges or normalize them to a standard distribution.\n",
    "Data aggregation: Aggregate data at different levels (e.g., group by, pivot tables) to generate summary statistics or create new datasets.\n",
    "Data Integration: Combine data from multiple sources or datasets to create a unified dataset for analysis.\n",
    "Data Reduction: Reduce the dimensionality of the dataset by selecting relevant features or applying dimensionality reduction techniques (e.g., PCA) to improve computational efficiency or remove noise.\n",
    "Data Formatting: Format the data in a way that is suitable for specific analysis or modeling tasks, such as reshaping data into long or wide formats or converting data types.\n",
    "Data Enrichment: Enhance the dataset by incorporating additional external data sources or appending supplementary information to enrich the analysis.\n",
    "Data Validation: Validate the integrity and quality of the processed data to ensure that it meets the desired standards and is ready for analysis or modeling.\n",
    "\"\"\""
   ]
  },
  {
   "cell_type": "code",
   "execution_count": null,
   "metadata": {},
   "outputs": [],
   "source": []
  }
 ],
 "metadata": {
  "kernelspec": {
   "display_name": "Python 3 (ipykernel)",
   "language": "python",
   "name": "python3"
  },
  "language_info": {
   "codemirror_mode": {
    "name": "ipython",
    "version": 3
   },
   "file_extension": ".py",
   "mimetype": "text/x-python",
   "name": "python",
   "nbconvert_exporter": "python",
   "pygments_lexer": "ipython3",
   "version": "3.12.3"
  }
 },
 "nbformat": 4,
 "nbformat_minor": 4
}
