{
 "cells": [
  {
   "cell_type": "code",
   "execution_count": 1,
   "metadata": {},
   "outputs": [
    {
     "name": "stdout",
     "output_type": "stream",
     "text": [
      "89.76923076923077\n"
     ]
    }
   ],
   "source": [
    "import numpy\n",
    "\n",
    "speed = [99,86,87,88,111,86,103,87,94,78,77,85,86]\n",
    "\n",
    "x = numpy.mean(speed)\n",
    "\n",
    "print(x)"
   ]
  },
  {
   "cell_type": "code",
   "execution_count": 2,
   "metadata": {},
   "outputs": [
    {
     "name": "stdout",
     "output_type": "stream",
     "text": [
      "87.0\n"
     ]
    }
   ],
   "source": [
    "import numpy\n",
    "\n",
    "speed = [99,86,87,88,111,86,103,87,94,78,77,85,86]\n",
    "\n",
    "x = numpy.median(speed)\n",
    "\n",
    "print(x)"
   ]
  },
  {
   "cell_type": "code",
   "execution_count": 3,
   "metadata": {},
   "outputs": [
    {
     "name": "stdout",
     "output_type": "stream",
     "text": [
      "86.5\n"
     ]
    }
   ],
   "source": [
    "import numpy\n",
    "\n",
    "speed = [99,86,87,88,86,103,87,94,78,77,85,86]\n",
    "\n",
    "x = numpy.median(speed)\n",
    "\n",
    "print(x)"
   ]
  },
  {
   "cell_type": "code",
   "execution_count": 5,
   "metadata": {},
   "outputs": [
    {
     "ename": "ModuleNotFoundError",
     "evalue": "No module named 'scipy'",
     "output_type": "error",
     "traceback": [
      "\u001b[1;31m---------------------------------------------------------------------------\u001b[0m",
      "\u001b[1;31mModuleNotFoundError\u001b[0m                       Traceback (most recent call last)",
      "Cell \u001b[1;32mIn[5], line 1\u001b[0m\n\u001b[1;32m----> 1\u001b[0m \u001b[38;5;28;01mfrom\u001b[39;00m \u001b[38;5;21;01mscipy\u001b[39;00m \u001b[38;5;28;01mimport\u001b[39;00m stats\n\u001b[0;32m      3\u001b[0m speed \u001b[38;5;241m=\u001b[39m [\u001b[38;5;241m99\u001b[39m,\u001b[38;5;241m86\u001b[39m,\u001b[38;5;241m87\u001b[39m,\u001b[38;5;241m88\u001b[39m,\u001b[38;5;241m111\u001b[39m,\u001b[38;5;241m86\u001b[39m,\u001b[38;5;241m103\u001b[39m,\u001b[38;5;241m87\u001b[39m,\u001b[38;5;241m94\u001b[39m,\u001b[38;5;241m78\u001b[39m,\u001b[38;5;241m77\u001b[39m,\u001b[38;5;241m85\u001b[39m,\u001b[38;5;241m86\u001b[39m]\n\u001b[0;32m      5\u001b[0m x \u001b[38;5;241m=\u001b[39m stats\u001b[38;5;241m.\u001b[39mmode(speed)\n",
      "\u001b[1;31mModuleNotFoundError\u001b[0m: No module named 'scipy'"
     ]
    }
   ],
   "source": [
    "from scipy import stats\n",
    "\n",
    "speed = [99,86,87,88,111,86,103,87,94,78,77,85,86]\n",
    "\n",
    "x = stats.mode(speed)\n",
    "\n",
    "print(x)"
   ]
  },
  {
   "cell_type": "code",
   "execution_count": 5,
   "metadata": {},
   "outputs": [
    {
     "name": "stdout",
     "output_type": "stream",
     "text": [
      "Mean / Average is : 3.0\n"
     ]
    }
   ],
   "source": [
    "n_num = [1, 2, 3, 4, 5]\n",
    "n = len(n_num)\n",
    "\n",
    "get_sum = sum(n_num)\n",
    "mean = get_sum/n\n",
    "\n",
    "print(\"Mean / Average is : \" + str(mean))"
   ]
  },
  {
   "cell_type": "code",
   "execution_count": 6,
   "metadata": {},
   "outputs": [
    {
     "name": "stdout",
     "output_type": "stream",
     "text": [
      "Median is : 3\n"
     ]
    }
   ],
   "source": [
    "n_num = [1, 2, 3, 4, 5]\n",
    "n = len(n_num)\n",
    "n_num.sort()\n",
    "\n",
    "if n % 2 == 0:\n",
    "    median1 = n_num[n//2]\n",
    "    median2 = n_num[n//2-1]\n",
    "    median = (median1 + median2)/2\n",
    "else:\n",
    "    median = n_num[n//2]\n",
    "print(\"Median is : \" + str(median))"
   ]
  },
  {
   "cell_type": "code",
   "execution_count": 7,
   "metadata": {},
   "outputs": [
    {
     "name": "stdout",
     "output_type": "stream",
     "text": [
      "Mode is/are : 5\n"
     ]
    }
   ],
   "source": [
    "from collections import Counter\n",
    "\n",
    "n_num = [1, 2, 3, 4, 5, 5]\n",
    "n = len(n_num)\n",
    "\n",
    "data = Counter(n_num)\n",
    "get_mode = dict(data)\n",
    "mode = [k for k, v in get_mode.items() if v == max(list(data.values()))]\n",
    "\n",
    "if len(mode) == n:\n",
    "    get_mode = \"No mode found\"\n",
    "else:\n",
    "    get_mode = \"Mode is/are : \" + ', '.join(map(str,mode))\n",
    "print(get_mode)"
   ]
  },
  {
   "cell_type": "code",
   "execution_count": 8,
   "metadata": {},
   "outputs": [
    {
     "data": {
      "text/plain": [
       "A    category\n",
       "B    category\n",
       "dtype: object"
      ]
     },
     "execution_count": 8,
     "metadata": {},
     "output_type": "execute_result"
    }
   ],
   "source": [
    "import pandas as pd\n",
    "\n",
    "df = pd.DataFrame({'A' : ['a', 'b', 'c', 'c', 'a', 'b'],\n",
    "                   'B' : [0, 1, 1, 0, 1, 0]}, dtype = \"category\")\n",
    "df.dtypes"
   ]
  },
  {
   "cell_type": "code",
   "execution_count": 9,
   "metadata": {},
   "outputs": [
    {
     "name": "stdout",
     "output_type": "stream",
     "text": [
      "   A  B\n",
      "0  a  0\n",
      "1  b  1\n",
      "2  c  1\n",
      "3  c  0\n",
      "4  a  1\n",
      "5  b  0\n",
      "   A  B\n",
      "0  a  2\n",
      "1  b  2\n",
      "2  c  2\n"
     ]
    },
    {
     "name": "stderr",
     "output_type": "stream",
     "text": [
      "C:\\Users\\DELL\\AppData\\Local\\Temp\\ipykernel_5492\\1566825704.py:3: FutureWarning: The default of observed=False is deprecated and will be changed to True in a future version of pandas. Pass observed=False to retain current behavior or observed=True to adopt the future default and silence this warning.\n",
      "  print(df.groupby(['A']). count().reset_index())\n"
     ]
    }
   ],
   "source": [
    "print(df)\n",
    "\n",
    "print(df.groupby(['A']). count().reset_index())"
   ]
  },
  {
   "cell_type": "code",
   "execution_count": 10,
   "metadata": {},
   "outputs": [
    {
     "name": "stdout",
     "output_type": "stream",
     "text": [
      "   A  B  C\n",
      "0  a  0  7\n",
      "1  b  1  8\n",
      "2  c  1  9\n",
      "3  c  0  5\n",
      "4  a  1  3\n",
      "5  b  0  6\n",
      "   A  B    C\n",
      "0  a  0  7.0\n",
      "1  a  1  3.0\n",
      "2  b  0  6.0\n",
      "3  b  1  8.0\n",
      "4  c  0  5.0\n",
      "5  c  1  9.0\n"
     ]
    },
    {
     "name": "stderr",
     "output_type": "stream",
     "text": [
      "C:\\Users\\DELL\\AppData\\Local\\Temp\\ipykernel_5492\\1222694041.py:11: FutureWarning: The default of observed=False is deprecated and will be changed to True in a future version of pandas. Pass observed=False to retain current behavior or observed=True to adopt the future default and silence this warning.\n",
      "  print(df.groupby(['A', 'B']).mean().reset_index())\n"
     ]
    }
   ],
   "source": [
    "import pandas as pd\n",
    "\n",
    "df = pd.DataFrame({'A' : ['a', 'b', 'c', 'c', 'a', 'b'],\n",
    "                   'B' : [0, 1, 1, 0, 1, 0],\n",
    "                   'C' : [7, 8, 9, 5, 3, 6]})\n",
    "\n",
    "df['A'] = df['A'].astype('category')\n",
    "\n",
    "print(df)\n",
    "\n",
    "print(df.groupby(['A', 'B']).mean().reset_index())"
   ]
  },
  {
   "cell_type": "code",
   "execution_count": 11,
   "metadata": {},
   "outputs": [
    {
     "name": "stdout",
     "output_type": "stream",
     "text": [
      "Iris-setosa\n",
      "             Id  SepalLengthCm  SepalWidthCm  PetalLengthCm  PetalWidthCm\n",
      "count  50.00000       50.00000     50.000000      50.000000      50.00000\n",
      "mean   25.50000        5.00600      3.418000       1.464000       0.24400\n",
      "std    14.57738        0.35249      0.381024       0.173511       0.10721\n",
      "min     1.00000        4.30000      2.300000       1.000000       0.10000\n",
      "25%    13.25000        4.80000      3.125000       1.400000       0.20000\n",
      "50%    25.50000        5.00000      3.400000       1.500000       0.20000\n",
      "75%    37.75000        5.20000      3.675000       1.575000       0.30000\n",
      "max    50.00000        5.80000      4.400000       1.900000       0.60000\n",
      "\n",
      "Iris-versicolor\n",
      "              Id  SepalLengthCm  SepalWidthCm  PetalLengthCm  PetalWidthCm\n",
      "count   50.00000      50.000000     50.000000      50.000000     50.000000\n",
      "mean    75.50000       5.936000      2.770000       4.260000      1.326000\n",
      "std     14.57738       0.516171      0.313798       0.469911      0.197753\n",
      "min     51.00000       4.900000      2.000000       3.000000      1.000000\n",
      "25%     63.25000       5.600000      2.525000       4.000000      1.200000\n",
      "50%     75.50000       5.900000      2.800000       4.350000      1.300000\n",
      "75%     87.75000       6.300000      3.000000       4.600000      1.500000\n",
      "max    100.00000       7.000000      3.400000       5.100000      1.800000\n",
      "\n",
      "Iris-virginica\n",
      "              Id  SepalLengthCm  SepalWidthCm  PetalLengthCm  PetalWidthCm\n",
      "count   50.00000       50.00000     50.000000      50.000000      50.00000\n",
      "mean   125.50000        6.58800      2.974000       5.552000       2.02600\n",
      "std     14.57738        0.63588      0.322497       0.551895       0.27465\n",
      "min    101.00000        4.90000      2.200000       4.500000       1.40000\n",
      "25%    113.25000        6.22500      2.800000       5.100000       1.80000\n",
      "50%    125.50000        6.50000      3.000000       5.550000       2.00000\n",
      "75%    137.75000        6.90000      3.175000       5.875000       2.30000\n",
      "max    150.00000        7.90000      3.800000       6.900000       2.50000\n"
     ]
    }
   ],
   "source": [
    "import pandas as pd\n",
    "\n",
    "data = pd.read_csv(r\"C:\\Users\\DELL\\OneDrive\\Desktop\\DSBDAL\\Ex3 central_tendancy Iris\\Iris.csv\")\n",
    "\n",
    "print('Iris-setosa')\n",
    "setosa= data['Species'] == 'Iris-setosa'\n",
    "print(data[setosa].describe())\n",
    "\n",
    "print('\\nIris-versicolor')\n",
    "versicolor= data['Species'] == 'Iris-versicolor'\n",
    "print(data[versicolor].describe())\n",
    "\n",
    "print('\\nIris-virginica')\n",
    "virginica = data['Species'] == 'Iris-virginica'\n",
    "print (data[virginica].describe())"
   ]
  },
  {
   "cell_type": "code",
   "execution_count": 12,
   "metadata": {},
   "outputs": [
    {
     "data": {
      "text/plain": [
       "\"\\n1 This code calculates the mean (average) of the speed list using the numpy.mean() function.\\n2 This code calculates the median of the speed list using the numpy.median() function.\\n3 This code calculates the median of the speed list, which has an even number of elements.\\n4 This code calculates the mode of the speed list using the stats.mode() function from SciPy.\\n5 This code calculates the mean of the n_num list without using numpy.\\n6 This code calculates the median of the n_num list without using numpy for sorting.\\n7 This code calculates the mode of the n_num list using the Counter class from the \\n8 This code creates a DataFrame df and prints its data types.\\n9 This code prints the DataFrame df and calculates the count of occurrences for each unique value in column 'A' using groupby() and count() functions.\\n10 This code creates a DataFrame df with three columns, 'A', 'B', and 'C', and calculates the mean of column 'C' grouped by unique combinations of values in columns 'A' and 'B'.\\n11 This code reads the Iris dataset, separates the data for each species, and then prints descriptive statistics (count, mean, standard deviation, min, max, etc.) for each species separately.\\n\\nDescriptive statistics provide a summary of the main features of a dataset. Measures of central tendency and variability are two key components of descriptive statistics that help to understand the central values and spread of the data. Here's an overview of these measures:\\n\\n### Measures of Central Tendency:\\nThese measures provide information about the central or typical value of a dataset.\\n\\n1. **Mean:** The arithmetic average of all the values in the dataset. It's calculated by summing all the values and dividing by the total number of values.\\n   - Example: Mean age of a group of people.\\n\\n2. **Median:** The middle value of the dataset when it's arranged in ascending or descending order. If there's an even number of values, the median is the average of the two middle values.\\n   - Example: Median income of a population.\\n\\n3. **Mode:** The value that appears most frequently in the dataset.\\n   - Example: Mode of transportation used by commuters.\\n\\n### Measures of Variability:\\nThese measures describe the spread or dispersion of the values in the dataset.\\n\\n1. **Range:** The difference between the maximum and minimum values in the dataset.\\n   - Example: Range of temperatures recorded in a day.\\n\\n2. **Variance:** The average of the squared differences from the mean. It measures how far each value in the dataset is from the mean.\\n   - Example: Variance of exam scores in a class.\\n\\n3. **Standard Deviation:** The square root of the variance. It indicates the average deviation of the values from the mean.\\n   - Example: Standard deviation of heights in a sample population.\\n\\n4. **Interquartile Range (IQR):** The range between the first quartile (25th percentile) and the third quartile (75th percentile) of the dataset. It's a measure of the spread of the middle 50% of the data.\\n   - Example: IQR of housing prices in a neighborhood.\\n\\n### Example:\\nLet's say we have a dataset of exam scores: [70, 80, 75, 85, 90].\\n- Mean: (70 + 80 + 75 + 85 + 90) / 5 = 80\\n- Median: Since there's an odd number of values, the median is the middle value, which is 75.\\n- Mode: There's no repeated value, so there's no mode.\\n- Range: Maximum value - Minimum value = 90 - 70 = 20\\n- Variance: Calculated using the formula for population variance or sample variance.\\n- Standard Deviation: Calculated as the square root of the variance.\\n- IQR: Calculated as the difference between the third quartile and the first quartile.\\n\""
      ]
     },
     "execution_count": 12,
     "metadata": {},
     "output_type": "execute_result"
    }
   ],
   "source": [
    "\"\"\"\n",
    "1 This code calculates the mean (average) of the speed list using the numpy.mean() function.\n",
    "2 This code calculates the median of the speed list using the numpy.median() function.\n",
    "3 This code calculates the median of the speed list, which has an even number of elements.\n",
    "4 This code calculates the mode of the speed list using the stats.mode() function from SciPy.\n",
    "5 This code calculates the mean of the n_num list without using numpy.\n",
    "6 This code calculates the median of the n_num list without using numpy for sorting.\n",
    "7 This code calculates the mode of the n_num list using the Counter class from the \n",
    "8 This code creates a DataFrame df and prints its data types.\n",
    "9 This code prints the DataFrame df and calculates the count of occurrences for each unique value in column 'A' using groupby() and count() functions.\n",
    "10 This code creates a DataFrame df with three columns, 'A', 'B', and 'C', and calculates the mean of column 'C' grouped by unique combinations of values in columns 'A' and 'B'.\n",
    "11 This code reads the Iris dataset, separates the data for each species, and then prints descriptive statistics (count, mean, standard deviation, min, max, etc.) for each species separately.\n",
    "\n",
    "Descriptive statistics provide a summary of the main features of a dataset. Measures of central tendency and variability are two key components of descriptive statistics that help to understand the central values and spread of the data. Here's an overview of these measures:\n",
    "\n",
    "### Measures of Central Tendency:\n",
    "These measures provide information about the central or typical value of a dataset.\n",
    "\n",
    "1. **Mean:** The arithmetic average of all the values in the dataset. It's calculated by summing all the values and dividing by the total number of values.\n",
    "   - Example: Mean age of a group of people.\n",
    "\n",
    "2. **Median:** The middle value of the dataset when it's arranged in ascending or descending order. If there's an even number of values, the median is the average of the two middle values.\n",
    "   - Example: Median income of a population.\n",
    "\n",
    "3. **Mode:** The value that appears most frequently in the dataset.\n",
    "   - Example: Mode of transportation used by commuters.\n",
    "\n",
    "### Measures of Variability:\n",
    "These measures describe the spread or dispersion of the values in the dataset.\n",
    "\n",
    "1. **Range:** The difference between the maximum and minimum values in the dataset.\n",
    "   - Example: Range of temperatures recorded in a day.\n",
    "\n",
    "2. **Variance:** The average of the squared differences from the mean. It measures how far each value in the dataset is from the mean.\n",
    "   - Example: Variance of exam scores in a class.\n",
    "\n",
    "3. **Standard Deviation:** The square root of the variance. It indicates the average deviation of the values from the mean.\n",
    "   - Example: Standard deviation of heights in a sample population.\n",
    "\n",
    "4. **Interquartile Range (IQR):** The range between the first quartile (25th percentile) and the third quartile (75th percentile) of the dataset. It's a measure of the spread of the middle 50% of the data.\n",
    "   - Example: IQR of housing prices in a neighborhood.\n",
    "\n",
    "### Example:\n",
    "Let's say we have a dataset of exam scores: [70, 80, 75, 85, 90].\n",
    "- Mean: (70 + 80 + 75 + 85 + 90) / 5 = 80\n",
    "- Median: Since there's an odd number of values, the median is the middle value, which is 75.\n",
    "- Mode: There's no repeated value, so there's no mode.\n",
    "- Range: Maximum value - Minimum value = 90 - 70 = 20\n",
    "- Variance: Calculated using the formula for population variance or sample variance.\n",
    "- Standard Deviation: Calculated as the square root of the variance.\n",
    "- IQR: Calculated as the difference between the third quartile and the first quartile.\n",
    "\"\"\""
   ]
  },
  {
   "cell_type": "code",
   "execution_count": null,
   "metadata": {},
   "outputs": [],
   "source": []
  }
 ],
 "metadata": {
  "kernelspec": {
   "display_name": "Python 3 (ipykernel)",
   "language": "python",
   "name": "python3"
  },
  "language_info": {
   "codemirror_mode": {
    "name": "ipython",
    "version": 3
   },
   "file_extension": ".py",
   "mimetype": "text/x-python",
   "name": "python",
   "nbconvert_exporter": "python",
   "pygments_lexer": "ipython3",
   "version": "3.12.3"
  }
 },
 "nbformat": 4,
 "nbformat_minor": 4
}
