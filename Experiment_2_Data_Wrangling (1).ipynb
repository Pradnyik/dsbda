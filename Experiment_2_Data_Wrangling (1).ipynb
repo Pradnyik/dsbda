{
 "cells": [
  {
   "cell_type": "code",
   "execution_count": 1,
   "metadata": {},
   "outputs": [],
   "source": [
    "import numpy as np\n",
    "import matplotlib.pyplot as plt\n",
    "%matplotlib inline"
   ]
  },
  {
   "cell_type": "code",
   "execution_count": 2,
   "metadata": {},
   "outputs": [],
   "source": [
    "import pandas as pd"
   ]
  },
  {
   "cell_type": "code",
   "execution_count": 3,
   "metadata": {},
   "outputs": [],
   "source": [
    "df = pd.read_csv(r\"C:\\Users\\DELL\\OneDrive\\Desktop\\DSBDAL\\Ex2 acadmic performance\\AcademicPerformance.csv\")"
   ]
  },
  {
   "cell_type": "code",
   "execution_count": 4,
   "metadata": {},
   "outputs": [
    {
     "name": "stdout",
     "output_type": "stream",
     "text": [
      "     gender race/ethnicity parental level of education         lunch  \\\n",
      "0    female        group B           bachelor's degree      standard   \n",
      "1    female        group C                some college      standard   \n",
      "2    female        group B             master's degree      standard   \n",
      "3      male        group A          associate's degree  free/reduced   \n",
      "4      male        group C                some college      standard   \n",
      "..      ...            ...                         ...           ...   \n",
      "995  female        group E             master's degree      standard   \n",
      "996    male        group C                 high school  free/reduced   \n",
      "997  female        group C                 high school  free/reduced   \n",
      "998  female        group D                some college      standard   \n",
      "999  female        group D                some college  free/reduced   \n",
      "\n",
      "    test preparation course  Year_Birth  math score reading score  \\\n",
      "0                      none        1970        72.0            72   \n",
      "1                 completed        1961         NaN            na   \n",
      "2                      none        1958        90.0            95   \n",
      "3                      none        1967         NaN           NaN   \n",
      "4                      none        1989        76.0            78   \n",
      "..                      ...         ...         ...           ...   \n",
      "995               completed        1972        88.0            99   \n",
      "996                    none        1972        62.0            55   \n",
      "997               completed        1972        59.0            71   \n",
      "998               completed        1972        68.0            78   \n",
      "999                    none        1972        77.0            86   \n",
      "\n",
      "    writing score Dt_Admission College_Fees  \n",
      "0              74      6/16/14   $84,835.00  \n",
      "1               A      6/15/14   $57,091.00  \n",
      "2              93      5/13/14   $67,267.00  \n",
      "3              44   05-11-2014   $32,474.00  \n",
      "4              75   04-08-2014   $21,474.00  \n",
      "..            ...          ...          ...  \n",
      "995            95      8/24/12   $57,107.00  \n",
      "996            55      8/17/12   $76,467.00  \n",
      "997            65      5/27/14   $76,467.01  \n",
      "998            77      2/23/14   $51,315.00  \n",
      "999            86   01-10-2014   $43,602.00  \n",
      "\n",
      "[1000 rows x 11 columns]\n"
     ]
    }
   ],
   "source": [
    "print(df)"
   ]
  },
  {
   "cell_type": "code",
   "execution_count": 5,
   "metadata": {},
   "outputs": [
    {
     "name": "stdout",
     "output_type": "stream",
     "text": [
      "0      72.0\n",
      "1       NaN\n",
      "2      90.0\n",
      "3       NaN\n",
      "4      76.0\n",
      "       ... \n",
      "995    88.0\n",
      "996    62.0\n",
      "997    59.0\n",
      "998    68.0\n",
      "999    77.0\n",
      "Name: math score, Length: 1000, dtype: float64\n"
     ]
    }
   ],
   "source": [
    "print(df['math score'])"
   ]
  },
  {
   "cell_type": "code",
   "execution_count": 6,
   "metadata": {},
   "outputs": [
    {
     "name": "stdout",
     "output_type": "stream",
     "text": [
      "0      False\n",
      "1       True\n",
      "2      False\n",
      "3       True\n",
      "4      False\n",
      "       ...  \n",
      "995    False\n",
      "996    False\n",
      "997    False\n",
      "998    False\n",
      "999    False\n",
      "Name: math score, Length: 1000, dtype: bool\n"
     ]
    }
   ],
   "source": [
    "print(df['math score'].isnull())"
   ]
  },
  {
   "cell_type": "code",
   "execution_count": 7,
   "metadata": {},
   "outputs": [
    {
     "name": "stdout",
     "output_type": "stream",
     "text": [
      "0       72\n",
      "1       na\n",
      "2       95\n",
      "3      NaN\n",
      "4       78\n",
      "      ... \n",
      "995     99\n",
      "996     55\n",
      "997     71\n",
      "998     78\n",
      "999     86\n",
      "Name: reading score, Length: 1000, dtype: object\n"
     ]
    }
   ],
   "source": [
    "print(df['reading score'])"
   ]
  },
  {
   "cell_type": "code",
   "execution_count": 8,
   "metadata": {},
   "outputs": [
    {
     "name": "stdout",
     "output_type": "stream",
     "text": [
      "0      False\n",
      "1      False\n",
      "2      False\n",
      "3       True\n",
      "4      False\n",
      "       ...  \n",
      "995    False\n",
      "996    False\n",
      "997    False\n",
      "998    False\n",
      "999    False\n",
      "Name: reading score, Length: 1000, dtype: bool\n"
     ]
    }
   ],
   "source": [
    "print(df['reading score'].isnull())"
   ]
  },
  {
   "cell_type": "code",
   "execution_count": 9,
   "metadata": {},
   "outputs": [],
   "source": [
    "missing_values = [\"n/a\", \"na\", \"--\"]\n",
    "df = pd.read_csv(r\"C:\\Users\\DELL\\OneDrive\\Desktop\\DSBDAL\\Ex2 acadmic performance\\AcademicPerformance.csv\", na_values = missing_values)"
   ]
  },
  {
   "cell_type": "code",
   "execution_count": 10,
   "metadata": {},
   "outputs": [
    {
     "name": "stdout",
     "output_type": "stream",
     "text": [
      "0      72.0\n",
      "1       NaN\n",
      "2      95.0\n",
      "3       NaN\n",
      "4      78.0\n",
      "       ... \n",
      "995    99.0\n",
      "996    55.0\n",
      "997    71.0\n",
      "998    78.0\n",
      "999    86.0\n",
      "Name: reading score, Length: 1000, dtype: float64\n"
     ]
    }
   ],
   "source": [
    "print(df['reading score'])"
   ]
  },
  {
   "cell_type": "code",
   "execution_count": 11,
   "metadata": {},
   "outputs": [
    {
     "name": "stdout",
     "output_type": "stream",
     "text": [
      "0      False\n",
      "1       True\n",
      "2      False\n",
      "3       True\n",
      "4      False\n",
      "       ...  \n",
      "995    False\n",
      "996    False\n",
      "997    False\n",
      "998    False\n",
      "999    False\n",
      "Name: reading score, Length: 1000, dtype: bool\n"
     ]
    }
   ],
   "source": [
    "print(df['reading score'].isnull())"
   ]
  },
  {
   "cell_type": "code",
   "execution_count": 12,
   "metadata": {},
   "outputs": [],
   "source": [
    "dataset = [11,41,20,3,101,55,68,97,99,6]"
   ]
  },
  {
   "cell_type": "code",
   "execution_count": 13,
   "metadata": {},
   "outputs": [
    {
     "data": {
      "text/plain": [
       "[3, 6, 11, 20, 41, 55, 68, 97, 99, 101]"
      ]
     },
     "execution_count": 13,
     "metadata": {},
     "output_type": "execute_result"
    }
   ],
   "source": [
    "sorted(dataset)"
   ]
  },
  {
   "cell_type": "code",
   "execution_count": 14,
   "metadata": {},
   "outputs": [],
   "source": [
    "quantile1, quantile3 = np.percentile(dataset, [25,75])"
   ]
  },
  {
   "cell_type": "code",
   "execution_count": 15,
   "metadata": {},
   "outputs": [
    {
     "name": "stdout",
     "output_type": "stream",
     "text": [
      "13.25 89.75\n"
     ]
    }
   ],
   "source": [
    "print(quantile1, quantile3)"
   ]
  },
  {
   "cell_type": "code",
   "execution_count": 16,
   "metadata": {},
   "outputs": [],
   "source": [
    "iqr_value = (quantile3 - quantile1)"
   ]
  },
  {
   "cell_type": "code",
   "execution_count": 17,
   "metadata": {},
   "outputs": [
    {
     "name": "stdout",
     "output_type": "stream",
     "text": [
      "76.5\n"
     ]
    }
   ],
   "source": [
    "print(iqr_value)"
   ]
  },
  {
   "cell_type": "code",
   "execution_count": 18,
   "metadata": {},
   "outputs": [],
   "source": [
    "lower_bound_value = quantile1 - (1.5*iqr_value)"
   ]
  },
  {
   "cell_type": "code",
   "execution_count": 19,
   "metadata": {},
   "outputs": [],
   "source": [
    "upper_bound_value = quantile3 + (1.5*iqr_value)"
   ]
  },
  {
   "cell_type": "code",
   "execution_count": 20,
   "metadata": {},
   "outputs": [
    {
     "name": "stdout",
     "output_type": "stream",
     "text": [
      "-101.5 204.5\n"
     ]
    }
   ],
   "source": [
    "print(lower_bound_value, upper_bound_value)"
   ]
  },
  {
   "cell_type": "code",
   "execution_count": 21,
   "metadata": {},
   "outputs": [],
   "source": [
    "from datetime import date\n",
    "df['age'] = date.today().year - df['Year_Birth']"
   ]
  },
  {
   "cell_type": "code",
   "execution_count": 22,
   "metadata": {},
   "outputs": [],
   "source": [
    "df['Year'] = pd.DatetimeIndex(df['Dt_Admission']).year\n",
    "df['E_L'] = date.today().year - df['Year']"
   ]
  },
  {
   "cell_type": "code",
   "execution_count": 23,
   "metadata": {},
   "outputs": [
    {
     "data": {
      "text/html": [
       "<div>\n",
       "<style scoped>\n",
       "    .dataframe tbody tr th:only-of-type {\n",
       "        vertical-align: middle;\n",
       "    }\n",
       "\n",
       "    .dataframe tbody tr th {\n",
       "        vertical-align: top;\n",
       "    }\n",
       "\n",
       "    .dataframe thead th {\n",
       "        text-align: right;\n",
       "    }\n",
       "</style>\n",
       "<table border=\"1\" class=\"dataframe\">\n",
       "  <thead>\n",
       "    <tr style=\"text-align: right;\">\n",
       "      <th></th>\n",
       "      <th>gender</th>\n",
       "      <th>race/ethnicity</th>\n",
       "      <th>parental level of education</th>\n",
       "      <th>lunch</th>\n",
       "      <th>test preparation course</th>\n",
       "      <th>Year_Birth</th>\n",
       "      <th>math score</th>\n",
       "      <th>reading score</th>\n",
       "      <th>writing score</th>\n",
       "      <th>Dt_Admission</th>\n",
       "      <th>College_Fees</th>\n",
       "      <th>age</th>\n",
       "      <th>Year</th>\n",
       "      <th>E_L</th>\n",
       "    </tr>\n",
       "  </thead>\n",
       "  <tbody>\n",
       "    <tr>\n",
       "      <th>0</th>\n",
       "      <td>female</td>\n",
       "      <td>group B</td>\n",
       "      <td>bachelor's degree</td>\n",
       "      <td>standard</td>\n",
       "      <td>none</td>\n",
       "      <td>1970</td>\n",
       "      <td>72.0</td>\n",
       "      <td>72.0</td>\n",
       "      <td>74</td>\n",
       "      <td>6/16/14</td>\n",
       "      <td>$84,835.00</td>\n",
       "      <td>54</td>\n",
       "      <td>2014</td>\n",
       "      <td>10</td>\n",
       "    </tr>\n",
       "    <tr>\n",
       "      <th>1</th>\n",
       "      <td>female</td>\n",
       "      <td>group C</td>\n",
       "      <td>some college</td>\n",
       "      <td>standard</td>\n",
       "      <td>completed</td>\n",
       "      <td>1961</td>\n",
       "      <td>NaN</td>\n",
       "      <td>NaN</td>\n",
       "      <td>A</td>\n",
       "      <td>6/15/14</td>\n",
       "      <td>$57,091.00</td>\n",
       "      <td>63</td>\n",
       "      <td>2014</td>\n",
       "      <td>10</td>\n",
       "    </tr>\n",
       "    <tr>\n",
       "      <th>2</th>\n",
       "      <td>female</td>\n",
       "      <td>group B</td>\n",
       "      <td>master's degree</td>\n",
       "      <td>standard</td>\n",
       "      <td>none</td>\n",
       "      <td>1958</td>\n",
       "      <td>90.0</td>\n",
       "      <td>95.0</td>\n",
       "      <td>93</td>\n",
       "      <td>5/13/14</td>\n",
       "      <td>$67,267.00</td>\n",
       "      <td>66</td>\n",
       "      <td>2014</td>\n",
       "      <td>10</td>\n",
       "    </tr>\n",
       "    <tr>\n",
       "      <th>3</th>\n",
       "      <td>male</td>\n",
       "      <td>group A</td>\n",
       "      <td>associate's degree</td>\n",
       "      <td>free/reduced</td>\n",
       "      <td>none</td>\n",
       "      <td>1967</td>\n",
       "      <td>NaN</td>\n",
       "      <td>NaN</td>\n",
       "      <td>44</td>\n",
       "      <td>05-11-2014</td>\n",
       "      <td>$32,474.00</td>\n",
       "      <td>57</td>\n",
       "      <td>2014</td>\n",
       "      <td>10</td>\n",
       "    </tr>\n",
       "    <tr>\n",
       "      <th>4</th>\n",
       "      <td>male</td>\n",
       "      <td>group C</td>\n",
       "      <td>some college</td>\n",
       "      <td>standard</td>\n",
       "      <td>none</td>\n",
       "      <td>1989</td>\n",
       "      <td>76.0</td>\n",
       "      <td>78.0</td>\n",
       "      <td>75</td>\n",
       "      <td>04-08-2014</td>\n",
       "      <td>$21,474.00</td>\n",
       "      <td>35</td>\n",
       "      <td>2014</td>\n",
       "      <td>10</td>\n",
       "    </tr>\n",
       "  </tbody>\n",
       "</table>\n",
       "</div>"
      ],
      "text/plain": [
       "   gender race/ethnicity parental level of education         lunch  \\\n",
       "0  female        group B           bachelor's degree      standard   \n",
       "1  female        group C                some college      standard   \n",
       "2  female        group B             master's degree      standard   \n",
       "3    male        group A          associate's degree  free/reduced   \n",
       "4    male        group C                some college      standard   \n",
       "\n",
       "  test preparation course  Year_Birth  math score  reading score  \\\n",
       "0                    none        1970        72.0           72.0   \n",
       "1               completed        1961         NaN            NaN   \n",
       "2                    none        1958        90.0           95.0   \n",
       "3                    none        1967         NaN            NaN   \n",
       "4                    none        1989        76.0           78.0   \n",
       "\n",
       "  writing score Dt_Admission College_Fees  age  Year  E_L  \n",
       "0            74      6/16/14   $84,835.00   54  2014   10  \n",
       "1             A      6/15/14   $57,091.00   63  2014   10  \n",
       "2            93      5/13/14   $67,267.00   66  2014   10  \n",
       "3            44   05-11-2014   $32,474.00   57  2014   10  \n",
       "4            75   04-08-2014   $21,474.00   35  2014   10  "
      ]
     },
     "execution_count": 23,
     "metadata": {},
     "output_type": "execute_result"
    }
   ],
   "source": [
    "df.head(5)"
   ]
  },
  {
   "cell_type": "code",
   "execution_count": 24,
   "metadata": {},
   "outputs": [],
   "source": [
    "df['Fees$'] = df['College_Fees'].str.replace(',', '').str.replace('$', '').str.replace('.', '').fillna(0).astype(int)\n",
    "df['Fees_M$'] = df['Fees$'].apply(lambda X:round(X/1000000))"
   ]
  },
  {
   "cell_type": "code",
   "execution_count": 25,
   "metadata": {},
   "outputs": [
    {
     "data": {
      "text/html": [
       "<div>\n",
       "<style scoped>\n",
       "    .dataframe tbody tr th:only-of-type {\n",
       "        vertical-align: middle;\n",
       "    }\n",
       "\n",
       "    .dataframe tbody tr th {\n",
       "        vertical-align: top;\n",
       "    }\n",
       "\n",
       "    .dataframe thead th {\n",
       "        text-align: right;\n",
       "    }\n",
       "</style>\n",
       "<table border=\"1\" class=\"dataframe\">\n",
       "  <thead>\n",
       "    <tr style=\"text-align: right;\">\n",
       "      <th></th>\n",
       "      <th>gender</th>\n",
       "      <th>race/ethnicity</th>\n",
       "      <th>parental level of education</th>\n",
       "      <th>lunch</th>\n",
       "      <th>test preparation course</th>\n",
       "      <th>Year_Birth</th>\n",
       "      <th>math score</th>\n",
       "      <th>reading score</th>\n",
       "      <th>writing score</th>\n",
       "      <th>Dt_Admission</th>\n",
       "      <th>College_Fees</th>\n",
       "      <th>age</th>\n",
       "      <th>Year</th>\n",
       "      <th>E_L</th>\n",
       "      <th>Fees$</th>\n",
       "      <th>Fees_M$</th>\n",
       "    </tr>\n",
       "  </thead>\n",
       "  <tbody>\n",
       "    <tr>\n",
       "      <th>0</th>\n",
       "      <td>female</td>\n",
       "      <td>group B</td>\n",
       "      <td>bachelor's degree</td>\n",
       "      <td>standard</td>\n",
       "      <td>none</td>\n",
       "      <td>1970</td>\n",
       "      <td>72.0</td>\n",
       "      <td>72.0</td>\n",
       "      <td>74</td>\n",
       "      <td>6/16/14</td>\n",
       "      <td>$84,835.00</td>\n",
       "      <td>54</td>\n",
       "      <td>2014</td>\n",
       "      <td>10</td>\n",
       "      <td>8483500</td>\n",
       "      <td>8</td>\n",
       "    </tr>\n",
       "    <tr>\n",
       "      <th>1</th>\n",
       "      <td>female</td>\n",
       "      <td>group C</td>\n",
       "      <td>some college</td>\n",
       "      <td>standard</td>\n",
       "      <td>completed</td>\n",
       "      <td>1961</td>\n",
       "      <td>NaN</td>\n",
       "      <td>NaN</td>\n",
       "      <td>A</td>\n",
       "      <td>6/15/14</td>\n",
       "      <td>$57,091.00</td>\n",
       "      <td>63</td>\n",
       "      <td>2014</td>\n",
       "      <td>10</td>\n",
       "      <td>5709100</td>\n",
       "      <td>6</td>\n",
       "    </tr>\n",
       "    <tr>\n",
       "      <th>2</th>\n",
       "      <td>female</td>\n",
       "      <td>group B</td>\n",
       "      <td>master's degree</td>\n",
       "      <td>standard</td>\n",
       "      <td>none</td>\n",
       "      <td>1958</td>\n",
       "      <td>90.0</td>\n",
       "      <td>95.0</td>\n",
       "      <td>93</td>\n",
       "      <td>5/13/14</td>\n",
       "      <td>$67,267.00</td>\n",
       "      <td>66</td>\n",
       "      <td>2014</td>\n",
       "      <td>10</td>\n",
       "      <td>6726700</td>\n",
       "      <td>7</td>\n",
       "    </tr>\n",
       "    <tr>\n",
       "      <th>3</th>\n",
       "      <td>male</td>\n",
       "      <td>group A</td>\n",
       "      <td>associate's degree</td>\n",
       "      <td>free/reduced</td>\n",
       "      <td>none</td>\n",
       "      <td>1967</td>\n",
       "      <td>NaN</td>\n",
       "      <td>NaN</td>\n",
       "      <td>44</td>\n",
       "      <td>05-11-2014</td>\n",
       "      <td>$32,474.00</td>\n",
       "      <td>57</td>\n",
       "      <td>2014</td>\n",
       "      <td>10</td>\n",
       "      <td>3247400</td>\n",
       "      <td>3</td>\n",
       "    </tr>\n",
       "    <tr>\n",
       "      <th>4</th>\n",
       "      <td>male</td>\n",
       "      <td>group C</td>\n",
       "      <td>some college</td>\n",
       "      <td>standard</td>\n",
       "      <td>none</td>\n",
       "      <td>1989</td>\n",
       "      <td>76.0</td>\n",
       "      <td>78.0</td>\n",
       "      <td>75</td>\n",
       "      <td>04-08-2014</td>\n",
       "      <td>$21,474.00</td>\n",
       "      <td>35</td>\n",
       "      <td>2014</td>\n",
       "      <td>10</td>\n",
       "      <td>2147400</td>\n",
       "      <td>2</td>\n",
       "    </tr>\n",
       "  </tbody>\n",
       "</table>\n",
       "</div>"
      ],
      "text/plain": [
       "   gender race/ethnicity parental level of education         lunch  \\\n",
       "0  female        group B           bachelor's degree      standard   \n",
       "1  female        group C                some college      standard   \n",
       "2  female        group B             master's degree      standard   \n",
       "3    male        group A          associate's degree  free/reduced   \n",
       "4    male        group C                some college      standard   \n",
       "\n",
       "  test preparation course  Year_Birth  math score  reading score  \\\n",
       "0                    none        1970        72.0           72.0   \n",
       "1               completed        1961         NaN            NaN   \n",
       "2                    none        1958        90.0           95.0   \n",
       "3                    none        1967         NaN            NaN   \n",
       "4                    none        1989        76.0           78.0   \n",
       "\n",
       "  writing score Dt_Admission College_Fees  age  Year  E_L    Fees$  Fees_M$  \n",
       "0            74      6/16/14   $84,835.00   54  2014   10  8483500        8  \n",
       "1             A      6/15/14   $57,091.00   63  2014   10  5709100        6  \n",
       "2            93      5/13/14   $67,267.00   66  2014   10  6726700        7  \n",
       "3            44   05-11-2014   $32,474.00   57  2014   10  3247400        3  \n",
       "4            75   04-08-2014   $21,474.00   35  2014   10  2147400        2  "
      ]
     },
     "execution_count": 25,
     "metadata": {},
     "output_type": "execute_result"
    }
   ],
   "source": [
    "df.head(5)"
   ]
  },
  {
   "cell_type": "code",
   "execution_count": 26,
   "metadata": {},
   "outputs": [
    {
     "data": {
      "text/plain": [
       "'\\nSure, let\\'s break down the code step by step:\\n\\n1. **Importing Libraries:**\\n   - The code first imports necessary libraries: `numpy`, `matplotlib.pyplot`, and `pandas`.\\n\\n2. **Loading the Dataset:**\\n   - It reads a CSV file named \"AcademicPerformance.csv\" using `pd.read_csv()` from `pandas` and stores it in a DataFrame called `df`.\\n\\n3. **Handling Missing Values:**\\n   - It prints the \"math score\" column to inspect its values.\\n   - Then, it checks for missing values in the \"math score\" column using `df[\\'math score\\'].isnull()`.\\n\\n4. **Dealing with Non-numeric Values:**\\n   - Next, it prints the \"reading score\" column to check for non-numeric values.\\n   - It checks for missing values in the \"reading score\" column using `df[\\'reading score\\'].isnull()`.\\n\\n5. **Handling Additional Non-numeric Values:**\\n   - The code defines a list called `missing_values` containing strings that indicate missing values.\\n   - It reloads the dataset from the CSV file while specifying `na_values = missing_values` to replace these strings with actual NaN values.\\n\\n6. **Descriptive Statistics and Outlier Detection:**\\n   - It calculates the first and third quartiles, interquartile range (IQR), and defines lower and upper bounds for outlier detection based on the \"math score\" column.\\n\\n7. **Calculating Age and Academic Year:**\\n   - It calculates the age of each student based on the \"Year_Birth\" column.\\n   - It extracts the year from the \"Dt_Admission\" column to get the year of admission.\\n   - It calculates the number of academic years by subtracting the admission year from the current year.\\n   - These calculations are added as new columns in the DataFrame (`\\'age\\'`, `\\'Year\\'`, and `\\'E_L\\'`).\\n\\n8. **Extracting Numeric Information from Strings:**\\n   - It creates a new column `\\'Fees$\\'` by extracting numeric information from the \"College_Fees\" column, removing commas and dollar signs, and converting the result to integers.\\n   - It creates another column `\\'Fees_M$\\'` by rounding the fees to millions.\\n\\nThis code performs various data preprocessing tasks such as handling missing values, dealing with non-numeric values, calculating descriptive statistics, detecting outliers, extracting useful information from strings, and adding new columns based on calculations.\\n\\nData wrangling, also known as data munging or data preprocessing, refers to the process of cleaning, transforming, and enriching raw data into a format that is suitable for analysis or modeling. This process is crucial because real-world data is often messy, incomplete, or inconsistent, and it needs to be prepared before it can be effectively used for analysis or machine learning tasks. Here\\'s an overview of the steps involved in data wrangling:\\n\\nData Collection: Obtain raw data from various sources such as databases, APIs, CSV files, or web scraping.\\nData Cleaning:\\nHandle missing values: Identify missing data and decide how to handle them (e.g., imputation, deletion).\\nRemove duplicates: Identify and remove duplicate rows or records from the dataset.\\nCorrect inaccuracies: Detect and correct errors or inaccuracies in the data.\\nStandardize data: Convert data into a consistent format (e.g., date formatting, unit conversion).\\nData Transformation:\\nFeature engineering: Create new features or derive additional information from existing features to enhance the predictive power of the dataset.\\nEncoding categorical variables: Convert categorical variables into a numerical format suitable for machine learning algorithms (e.g., one-hot encoding, label encoding).\\nScaling and normalization: Scale numerical features to ensure they have similar ranges or normalize them to a standard distribution.\\nData aggregation: Aggregate data at different levels (e.g., group by, pivot tables) to generate summary statistics or create new datasets.\\nData Integration: Combine data from multiple sources or datasets to create a unified dataset for analysis.\\nData Reduction: Reduce the dimensionality of the dataset by selecting relevant features or applying dimensionality reduction techniques (e.g., PCA) to improve computational efficiency or remove noise.\\nData Formatting: Format the data in a way that is suitable for specific analysis or modeling tasks, such as reshaping data into long or wide formats or converting data types.\\nData Enrichment: Enhance the dataset by incorporating additional external data sources or appending supplementary information to enrich the analysis.\\nData Validation: Validate the integrity and quality of the processed data to ensure that it meets the desired standards and is ready for analysis or modeling.\\n'"
      ]
     },
     "execution_count": 26,
     "metadata": {},
     "output_type": "execute_result"
    }
   ],
   "source": [
    "\"\"\"\n",
    "Sure, let's break down the code step by step:\n",
    "\n",
    "1. **Importing Libraries:**\n",
    "   - The code first imports necessary libraries: `numpy`, `matplotlib.pyplot`, and `pandas`.\n",
    "\n",
    "2. **Loading the Dataset:**\n",
    "   - It reads a CSV file named \"AcademicPerformance.csv\" using `pd.read_csv()` from `pandas` and stores it in a DataFrame called `df`.\n",
    "\n",
    "3. **Handling Missing Values:**\n",
    "   - It prints the \"math score\" column to inspect its values.\n",
    "   - Then, it checks for missing values in the \"math score\" column using `df['math score'].isnull()`.\n",
    "\n",
    "4. **Dealing with Non-numeric Values:**\n",
    "   - Next, it prints the \"reading score\" column to check for non-numeric values.\n",
    "   - It checks for missing values in the \"reading score\" column using `df['reading score'].isnull()`.\n",
    "\n",
    "5. **Handling Additional Non-numeric Values:**\n",
    "   - The code defines a list called `missing_values` containing strings that indicate missing values.\n",
    "   - It reloads the dataset from the CSV file while specifying `na_values = missing_values` to replace these strings with actual NaN values.\n",
    "\n",
    "6. **Descriptive Statistics and Outlier Detection:**\n",
    "   - It calculates the first and third quartiles, interquartile range (IQR), and defines lower and upper bounds for outlier detection based on the \"math score\" column.\n",
    "\n",
    "7. **Calculating Age and Academic Year:**\n",
    "   - It calculates the age of each student based on the \"Year_Birth\" column.\n",
    "   - It extracts the year from the \"Dt_Admission\" column to get the year of admission.\n",
    "   - It calculates the number of academic years by subtracting the admission year from the current year.\n",
    "   - These calculations are added as new columns in the DataFrame (`'age'`, `'Year'`, and `'E_L'`).\n",
    "\n",
    "8. **Extracting Numeric Information from Strings:**\n",
    "   - It creates a new column `'Fees$'` by extracting numeric information from the \"College_Fees\" column, removing commas and dollar signs, and converting the result to integers.\n",
    "   - It creates another column `'Fees_M$'` by rounding the fees to millions.\n",
    "\n",
    "This code performs various data preprocessing tasks such as handling missing values, dealing with non-numeric values, calculating descriptive statistics, detecting outliers, extracting useful information from strings, and adding new columns based on calculations.\n",
    "\n",
    "Data wrangling, also known as data munging or data preprocessing, refers to the process of cleaning, transforming, and enriching raw data into a format that is suitable for analysis or modeling. This process is crucial because real-world data is often messy, incomplete, or inconsistent, and it needs to be prepared before it can be effectively used for analysis or machine learning tasks. Here's an overview of the steps involved in data wrangling:\n",
    "\n",
    "Data Collection: Obtain raw data from various sources such as databases, APIs, CSV files, or web scraping.\n",
    "Data Cleaning:\n",
    "Handle missing values: Identify missing data and decide how to handle them (e.g., imputation, deletion).\n",
    "Remove duplicates: Identify and remove duplicate rows or records from the dataset.\n",
    "Correct inaccuracies: Detect and correct errors or inaccuracies in the data.\n",
    "Standardize data: Convert data into a consistent format (e.g., date formatting, unit conversion).\n",
    "Data Transformation:\n",
    "Feature engineering: Create new features or derive additional information from existing features to enhance the predictive power of the dataset.\n",
    "Encoding categorical variables: Convert categorical variables into a numerical format suitable for machine learning algorithms (e.g., one-hot encoding, label encoding).\n",
    "Scaling and normalization: Scale numerical features to ensure they have similar ranges or normalize them to a standard distribution.\n",
    "Data aggregation: Aggregate data at different levels (e.g., group by, pivot tables) to generate summary statistics or create new datasets.\n",
    "Data Integration: Combine data from multiple sources or datasets to create a unified dataset for analysis.\n",
    "Data Reduction: Reduce the dimensionality of the dataset by selecting relevant features or applying dimensionality reduction techniques (e.g., PCA) to improve computational efficiency or remove noise.\n",
    "Data Formatting: Format the data in a way that is suitable for specific analysis or modeling tasks, such as reshaping data into long or wide formats or converting data types.\n",
    "Data Enrichment: Enhance the dataset by incorporating additional external data sources or appending supplementary information to enrich the analysis.\n",
    "Data Validation: Validate the integrity and quality of the processed data to ensure that it meets the desired standards and is ready for analysis or modeling.\n",
    "\"\"\""
   ]
  },
  {
   "cell_type": "code",
   "execution_count": null,
   "metadata": {},
   "outputs": [],
   "source": []
  }
 ],
 "metadata": {
  "kernelspec": {
   "display_name": "Python 3 (ipykernel)",
   "language": "python",
   "name": "python3"
  },
  "language_info": {
   "codemirror_mode": {
    "name": "ipython",
    "version": 3
   },
   "file_extension": ".py",
   "mimetype": "text/x-python",
   "name": "python",
   "nbconvert_exporter": "python",
   "pygments_lexer": "ipython3",
   "version": "3.12.3"
  }
 },
 "nbformat": 4,
 "nbformat_minor": 4
}
